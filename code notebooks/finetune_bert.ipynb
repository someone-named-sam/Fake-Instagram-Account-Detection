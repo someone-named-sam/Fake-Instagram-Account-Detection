{
 "cells": [
  {
   "cell_type": "code",
   "execution_count": null,
   "metadata": {},
   "outputs": [
    {
     "name": "stderr",
     "output_type": "stream",
     "text": [
      "/Library/Frameworks/Python.framework/Versions/3.12/lib/python3.12/site-packages/tqdm/auto.py:21: TqdmWarning: IProgress not found. Please update jupyter and ipywidgets. See https://ipywidgets.readthedocs.io/en/stable/user_install.html\n",
      "  from .autonotebook import tqdm as notebook_tqdm\n",
      "/Library/Frameworks/Python.framework/Versions/3.12/lib/python3.12/site-packages/huggingface_hub/file_download.py:896: FutureWarning: `resume_download` is deprecated and will be removed in version 1.0.0. Downloads always resume when possible. If you want to force a new download, use `force_download=True`.\n",
      "  warnings.warn(\n",
      "Map: 100%|██████████| 342/342 [00:00<00:00, 2943.73 examples/s]\n",
      "Map: 100%|██████████| 86/86 [00:00<00:00, 3266.24 examples/s]\n",
      "Map: 100%|██████████| 48/48 [00:00<00:00, 2821.83 examples/s]\n",
      "Some weights of BertForSequenceClassification were not initialized from the model checkpoint at bert-base-uncased and are newly initialized: ['classifier.bias', 'classifier.weight']\n",
      "You should probably TRAIN this model on a down-stream task to be able to use it for predictions and inference.\n"
     ]
    }
   ],
   "source": [
    "# Install required packages if not already installed\n",
    "# !pip install transformers datasets scikit-learn\n",
    "\n",
    "import pandas as pd\n",
    "import numpy as np\n",
    "from sklearn.model_selection import train_test_split\n",
    "from sklearn.metrics import accuracy_score, precision_recall_fscore_support\n",
    "import torch\n",
    "from transformers import BertTokenizer, BertForSequenceClassification, TrainingArguments, Trainer\n",
    "from datasets import Dataset\n",
    "\n",
    "# Load your dataset\n",
    "vdf = pd.read_csv(\"/Users/apoorvaneha/Downloads/combined_data.csv\")\n",
    "\n",
    "# Fill missing values \n",
    "vdf[\"Username\"] = vdf[\"Username\"].fillna(\"\")\n",
    "vdf[\"Full_Name\"] = vdf[\"Full_Name\"].fillna(\"\")\n",
    "vdf[\"Bio\"] = vdf[\"Bio\"].fillna(\"\")\n",
    "vdf[\"Real\"] = vdf[\"Real\"].fillna(0).astype(int)  # Ensure labels are ints\n",
    "\n",
    "\n",
    "# combining all text input fields into one feature\n",
    "#  Create input text column\n",
    "vdf[\"text\"] = (\n",
    "    \"Username: \" + vdf[\"Username\"] +\n",
    "    \" | Fullname: \" + vdf[\"Full_Name\"] +\n",
    "    \" | Bio: \" + vdf[\"Bio\"]\n",
    ")\n",
    "\n",
    "#  Create label column\n",
    "vdf[\"label\"] = vdf[\"Real\"]\n",
    "\n",
    "#train_df, val_df = train_test_split(vdf[[\"text\", \"label\"]], test_size=0.2, stratify=vdf[\"label\"], random_state=42)\n",
    "# Split into train, validation, and test sets\n",
    "\n",
    "train_val_df, test_df = train_test_split(vdf[[\"text\", \"label\"]], test_size=0.1, stratify=vdf[\"label\"], random_state=42)\n",
    "train_df, val_df = train_test_split(train_val_df, test_size=0.2, stratify=train_val_df[\"label\"], random_state=42)\n",
    "\n",
    "# Convert to HuggingFace Dataset format\n",
    "train_dataset = Dataset.from_pandas(train_df.reset_index(drop=True))\n",
    "val_dataset = Dataset.from_pandas(val_df.reset_index(drop=True))\n",
    "\n",
    "# Tokenizer and tokenization\n",
    "tokenizer = BertTokenizer.from_pretrained(\"bert-base-uncased\")\n",
    "\n",
    "def tokenize(batch):\n",
    "    return tokenizer(batch[\"text\"], padding=\"max_length\", truncation=True, max_length=128)\n",
    "\n",
    "train_dataset = train_dataset.map(tokenize, batched=True)\n",
    "val_dataset = val_dataset.map(tokenize, batched=True)\n",
    "\n",
    "# Set format for PyTorch\n",
    "train_dataset.set_format(\"torch\", columns=[\"input_ids\", \"attention_mask\", \"label\"])\n",
    "val_dataset.set_format(\"torch\", columns=[\"input_ids\", \"attention_mask\", \"label\"])\n",
    "\n",
    "test_dataset = Dataset.from_pandas(test_df.reset_index(drop=True))\n",
    "test_dataset = test_dataset.map(tokenize, batched=True)\n",
    "test_dataset.set_format(\"torch\", columns=[\"input_ids\", \"attention_mask\", \"label\"])\n",
    "\n",
    "#Load pre-trained BERT with classification head\n",
    "model = BertForSequenceClassification.from_pretrained(\"bert-base-uncased\", num_labels=2)\n",
    "\n",
    "# Define metrics\n",
    "def compute_metrics(pred):\n",
    "    labels = pred.label_ids\n",
    "    preds = np.argmax(pred.predictions, axis=1)\n",
    "    precision, recall, f1, _ = precision_recall_fscore_support(labels, preds, average=\"binary\")\n",
    "    acc = accuracy_score(labels, preds)\n",
    "    return {\"accuracy\": acc, \"precision\": precision, \"recall\": recall, \"f1\": f1}\n",
    "\n",
    "\n"
   ]
  },
  {
   "cell_type": "code",
   "execution_count": null,
   "metadata": {},
   "outputs": [
    {
     "name": "stderr",
     "output_type": "stream",
     "text": [
      " 20%|██        | 43/215 [00:53<03:47,  1.32s/it]"
     ]
    },
    {
     "name": "stdout",
     "output_type": "stream",
     "text": [
      "{'loss': 0.3912, 'grad_norm': 2.6870663166046143, 'learning_rate': 1.6000000000000003e-05, 'epoch': 1.0}\n"
     ]
    },
    {
     "name": "stderr",
     "output_type": "stream",
     "text": [
      "                                                \n",
      " 20%|██        | 43/215 [00:56<03:47,  1.32s/it]"
     ]
    },
    {
     "name": "stdout",
     "output_type": "stream",
     "text": [
      "{'eval_loss': 0.1299910992383957, 'eval_accuracy': 0.9651162790697675, 'eval_precision': 1.0, 'eval_recall': 0.9318181818181818, 'eval_f1': 0.9647058823529412, 'eval_runtime': 3.2237, 'eval_samples_per_second': 26.677, 'eval_steps_per_second': 3.412, 'epoch': 1.0}\n"
     ]
    },
    {
     "name": "stderr",
     "output_type": "stream",
     "text": [
      " 40%|████      | 86/215 [01:51<02:45,  1.28s/it]"
     ]
    },
    {
     "name": "stdout",
     "output_type": "stream",
     "text": [
      "{'loss': 0.0485, 'grad_norm': 0.22188648581504822, 'learning_rate': 1.2e-05, 'epoch': 2.0}\n"
     ]
    },
    {
     "name": "stderr",
     "output_type": "stream",
     "text": [
      "                                                \n",
      " 40%|████      | 86/215 [01:55<02:45,  1.28s/it]"
     ]
    },
    {
     "name": "stdout",
     "output_type": "stream",
     "text": [
      "{'eval_loss': 0.16283831000328064, 'eval_accuracy': 0.9534883720930233, 'eval_precision': 1.0, 'eval_recall': 0.9090909090909091, 'eval_f1': 0.9523809523809523, 'eval_runtime': 3.6998, 'eval_samples_per_second': 23.244, 'eval_steps_per_second': 2.973, 'epoch': 2.0}\n"
     ]
    },
    {
     "name": "stderr",
     "output_type": "stream",
     "text": [
      " 60%|██████    | 129/215 [03:17<01:38,  1.15s/it]"
     ]
    },
    {
     "name": "stdout",
     "output_type": "stream",
     "text": [
      "{'loss': 0.0175, 'grad_norm': 0.06353110820055008, 'learning_rate': 8.000000000000001e-06, 'epoch': 3.0}\n"
     ]
    },
    {
     "name": "stderr",
     "output_type": "stream",
     "text": [
      "                                                 \n",
      " 60%|██████    | 129/215 [03:20<01:38,  1.15s/it]"
     ]
    },
    {
     "name": "stdout",
     "output_type": "stream",
     "text": [
      "{'eval_loss': 0.0605572834610939, 'eval_accuracy': 0.9651162790697675, 'eval_precision': 1.0, 'eval_recall': 0.9318181818181818, 'eval_f1': 0.9647058823529412, 'eval_runtime': 3.309, 'eval_samples_per_second': 25.99, 'eval_steps_per_second': 3.324, 'epoch': 3.0}\n"
     ]
    },
    {
     "name": "stderr",
     "output_type": "stream",
     "text": [
      " 80%|████████  | 172/215 [04:16<00:49,  1.14s/it]"
     ]
    },
    {
     "name": "stdout",
     "output_type": "stream",
     "text": [
      "{'loss': 0.003, 'grad_norm': 0.04757578298449516, 'learning_rate': 4.000000000000001e-06, 'epoch': 4.0}\n"
     ]
    },
    {
     "name": "stderr",
     "output_type": "stream",
     "text": [
      "                                                 \n",
      " 80%|████████  | 172/215 [04:20<00:49,  1.14s/it]"
     ]
    },
    {
     "name": "stdout",
     "output_type": "stream",
     "text": [
      "{'eval_loss': 0.014962151646614075, 'eval_accuracy': 0.9883720930232558, 'eval_precision': 1.0, 'eval_recall': 0.9772727272727273, 'eval_f1': 0.9885057471264368, 'eval_runtime': 3.426, 'eval_samples_per_second': 25.102, 'eval_steps_per_second': 3.211, 'epoch': 4.0}\n"
     ]
    },
    {
     "name": "stderr",
     "output_type": "stream",
     "text": [
      "100%|██████████| 215/215 [05:14<00:00,  1.10s/it]"
     ]
    },
    {
     "name": "stdout",
     "output_type": "stream",
     "text": [
      "{'loss': 0.0015, 'grad_norm': 0.03326139599084854, 'learning_rate': 0.0, 'epoch': 5.0}\n"
     ]
    },
    {
     "name": "stderr",
     "output_type": "stream",
     "text": [
      "                                                 \n",
      "100%|██████████| 215/215 [05:17<00:00,  1.10s/it]"
     ]
    },
    {
     "name": "stdout",
     "output_type": "stream",
     "text": [
      "{'eval_loss': 0.011804146692156792, 'eval_accuracy': 0.9883720930232558, 'eval_precision': 1.0, 'eval_recall': 0.9772727272727273, 'eval_f1': 0.9885057471264368, 'eval_runtime': 3.0691, 'eval_samples_per_second': 28.022, 'eval_steps_per_second': 3.584, 'epoch': 5.0}\n"
     ]
    },
    {
     "name": "stderr",
     "output_type": "stream",
     "text": [
      "100%|██████████| 215/215 [05:22<00:00,  1.50s/it]\n"
     ]
    },
    {
     "name": "stdout",
     "output_type": "stream",
     "text": [
      "{'train_runtime': 322.6847, 'train_samples_per_second': 5.299, 'train_steps_per_second': 0.666, 'train_loss': 0.0923618834725646, 'epoch': 5.0}\n"
     ]
    },
    {
     "name": "stderr",
     "output_type": "stream",
     "text": [
      "100%|██████████| 6/6 [00:01<00:00,  3.77it/s]\n"
     ]
    },
    {
     "name": "stdout",
     "output_type": "stream",
     "text": [
      "✅ Test Accuracy: 1.0\n"
     ]
    },
    {
     "name": "stderr",
     "output_type": "stream",
     "text": [
      "100%|██████████| 11/11 [00:02<00:00,  3.70it/s]"
     ]
    },
    {
     "name": "stdout",
     "output_type": "stream",
     "text": [
      "Evaluation Results: {'eval_loss': 0.014962151646614075, 'eval_accuracy': 0.9883720930232558, 'eval_precision': 1.0, 'eval_recall': 0.9772727272727273, 'eval_f1': 0.9885057471264368, 'eval_runtime': 3.3214, 'eval_samples_per_second': 25.893, 'eval_steps_per_second': 3.312, 'epoch': 5.0}\n"
     ]
    },
    {
     "name": "stderr",
     "output_type": "stream",
     "text": [
      "\n"
     ]
    }
   ],
   "source": [
    "\n",
    "# Training set up\n",
    "\n",
    "training_args = TrainingArguments(\n",
    "    output_dir=\"./results\",\n",
    "    do_train=True,\n",
    "    do_eval=True,\n",
    "    per_device_train_batch_size=8,\n",
    "    per_device_eval_batch_size=8,\n",
    "    num_train_epochs=5,\n",
    "    learning_rate=2e-5,\n",
    "    weight_decay=0.01,\n",
    "    logging_dir='./logs',\n",
    "\n",
    "    evaluation_strategy=\"epoch\",\n",
    "    save_strategy=\"epoch\",\n",
    "    logging_strategy=\"epoch\",\n",
    "\n",
    "    load_best_model_at_end=True,\n",
    "    metric_for_best_model=\"f1\"\n",
    ")\n",
    "\n",
    "# Trainer\n",
    "trainer = Trainer(\n",
    "    model=model,\n",
    "    args=training_args,\n",
    "    train_dataset=train_dataset,\n",
    "    eval_dataset=val_dataset,\n",
    "    tokenizer=tokenizer,\n",
    "    compute_metrics=compute_metrics\n",
    ")\n",
    "\n",
    "# Train the model\n",
    "trainer.train()\n",
    "\n",
    "import matplotlib.pyplot as plt\n",
    "\n",
    "'''To avoid overfitting we are checking validation set loss at each epoch '''\n",
    "\n",
    "\n",
    "\n",
    "from sklearn.metrics import accuracy_score\n",
    "\n",
    "predictions = trainer.predict(test_dataset)\n",
    "preds = np.argmax(predictions.predictions, axis=1)\n",
    "\n",
    "print(\"Test Accuracy:\", accuracy_score(test_dataset[\"label\"], preds))\n",
    "\n",
    "\n",
    "# Evaluate on validation set\n",
    "eval_results = trainer.evaluate()\n",
    "print(\"Evaluation Results:\", eval_results)\n"
   ]
  },
  {
   "cell_type": "code",
   "execution_count": 6,
   "metadata": {},
   "outputs": [
    {
     "data": {
      "image/png": "[encoded data removed]",
      "text/plain": [
       "<Figure size 800x500 with 1 Axes>"
      ]
     },
     "metadata": {},
     "output_type": "display_data"
    }
   ],
   "source": [
    "import matplotlib.pyplot as plt\n",
    "\n",
    "train_loss = [0.2887, 0.0274, 0.0126, 0.0014, 0.0011]\n",
    "eval_loss =  [0.0942, 0.0646, 0.0714, 0.0743, 0.0755]\n",
    "epochs = list(range(1, 6))\n",
    "\n",
    "plt.figure(figsize=(8, 5))\n",
    "plt.plot(epochs, train_loss, label='Training Loss', marker='o', linewidth=2)\n",
    "plt.plot(epochs, eval_loss, label='Validation Loss', marker='s', linewidth=2)\n",
    "plt.axvline(x=2, linestyle='--', color='gray', label='Best Epoch (2)')\n",
    "\n",
    "plt.xlabel('Epoch')\n",
    "plt.ylabel('Loss')\n",
    "plt.title('Training vs Validation Loss per Epoch')\n",
    "plt.legend()\n",
    "plt.grid(True)\n",
    "plt.tight_layout()\n",
    "plt.show()"
   ]
  },
  {
   "cell_type": "markdown",
   "metadata": {},
   "source": [
    "Even though the dataset is small, the model is is not overfitting and we have considered the model's parameters till that epoch where validation loss has reached a minimum"
   ]
  },
  {
   "cell_type": "code",
   "execution_count": 7,
   "metadata": {},
   "outputs": [
    {
     "name": "stderr",
     "output_type": "stream",
     "text": [
      "100%|██████████| 6/6 [00:02<00:00,  2.81it/s]"
     ]
    },
    {
     "name": "stdout",
     "output_type": "stream",
     "text": [
      "ROC AUC Score: 1.0\n"
     ]
    },
    {
     "name": "stderr",
     "output_type": "stream",
     "text": [
      "\n"
     ]
    }
   ],
   "source": [
    "from sklearn.metrics import roc_auc_score\n",
    "import torch\n",
    "\n",
    "# Step 1: Get predictions and true labels\n",
    "# Use the trained model to predict on the validation or test dataset\n",
    "predictions = trainer.predict(test_dataset)\n",
    "\n",
    "# Step 2: Get predicted probabilities\n",
    "# For ROC AUC, we need the probability scores (not just the predicted labels)\n",
    "pred_probs = predictions.predictions  # shape: (num_samples, num_classes)\n",
    "\n",
    "# Step 3: Get true labels\n",
    "true_labels = predictions.label_ids  # true labels\n",
    "\n",
    "# Step 4: Calculate ROC AUC score (for binary classification)\n",
    "# We need the probabilities of the positive class (class 1)\n",
    "roc_auc = roc_auc_score(true_labels, pred_probs[:, 1])\n",
    "\n",
    "# Step 5: Print ROC AUC score\n",
    "print(f\"ROC AUC Score: {roc_auc}\")\n"
   ]
  },
  {
   "cell_type": "code",
   "execution_count": null,
   "metadata": {},
   "outputs": [],
   "source": [
    "import torch\n",
    "import numpy as np\n",
    "import joblib\n",
    "\n",
    "# Custom wrapper to make  Hugging Face model behave like a Scikit-learn model\n",
    "class BertWrapper:\n",
    "    def __init__(self, model, tokenizer, device='cpu'):\n",
    "        self.model = model.to(device)\n",
    "        self.tokenizer = tokenizer\n",
    "        self.device = device\n",
    "        self.model.eval()\n",
    "\n",
    "    def predict_proba(self, texts):\n",
    "        all_probs = []\n",
    "        with torch.no_grad():\n",
    "            for i in range(0, len(texts), 16):  # batch size\n",
    "                batch = texts[i:i+16]\n",
    "                encodings = self.tokenizer(\n",
    "                    batch,\n",
    "                    truncation=True,\n",
    "                    padding=True,\n",
    "                    return_tensors='pt',\n",
    "                    max_length=128\n",
    "                )\n",
    "                input_ids = encodings['input_ids'].to(self.device)\n",
    "                attention_mask = encodings['attention_mask'].to(self.device)\n",
    "\n",
    "                outputs = self.model(input_ids=input_ids, attention_mask=attention_mask)\n",
    "                probs = torch.nn.functional.softmax(outputs.logits, dim=1)[:, 1]\n",
    "                all_probs.extend(probs.cpu().numpy())\n",
    "        return np.array(all_probs).reshape(-1, 1)\n"
   ]
  },
  {
   "cell_type": "code",
   "execution_count": null,
   "metadata": {},
   "outputs": [
    {
     "data": {
      "text/plain": [
       "['bert_model.pkl']"
      ]
     },
     "execution_count": 9,
     "metadata": {},
     "output_type": "execute_result"
    }
   ],
   "source": [
    "# Use  existing model/tokenizer from the Trainer\n",
    "device = 'cuda' if torch.cuda.is_available() else 'cpu'\n",
    "wrapped_model = BertWrapper(model=model, tokenizer=tokenizer, device=device)\n",
    "\n",
    "# Save it as a .pkl for later ensemble use\n",
    "joblib.dump(wrapped_model, 'bert_model.pkl')\n"
   ]
  }
 ],
 "metadata": {
  "kernelspec": {
   "display_name": "Python 3",
   "language": "python",
   "name": "python3"
  },
  "language_info": {
   "codemirror_mode": {
    "name": "ipython",
    "version": 3
   },
   "file_extension": ".py",
   "mimetype": "text/x-python",
   "name": "python",
   "nbconvert_exporter": "python",
   "pygments_lexer": "ipython3",
   "version": "3.12.3"
  }
 },
 "nbformat": 4,
 "nbformat_minor": 2
}
